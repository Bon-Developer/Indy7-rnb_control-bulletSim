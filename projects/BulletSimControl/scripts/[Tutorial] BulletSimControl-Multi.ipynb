{
 "cells": [
  {
   "cell_type": "markdown",
   "metadata": {},
   "source": [
    "## Process\n",
    "### Start Bullet Server with ControlHubPlugin\n",
    "#### windows\n",
    "```cmd\n",
    "rnb-control\\BulletSimControl\\x64\\Release\\BulletSimControl.exe\n",
    "```\n",
    "#### linux\n",
    "```bash\n",
    "rnb-control/BulletSimControl/bin/BulletSimControl\n",
    "```"
   ]
  },
  {
   "cell_type": "code",
   "execution_count": 1,
   "metadata": {},
   "outputs": [],
   "source": [
    "from bullet_sim_client import *\n",
    "from utils.trajectory_client.trajectory_client import TrajectoryClient\n",
    "from utils.web_client import WebClient"
   ]
  },
  {
   "cell_type": "code",
   "execution_count": null,
   "metadata": {},
   "outputs": [],
   "source": []
  },
  {
   "cell_type": "markdown",
   "metadata": {},
   "source": [
    "## Connect and set physics"
   ]
  },
  {
   "cell_type": "code",
   "execution_count": 2,
   "metadata": {},
   "outputs": [],
   "source": [
    "init_bullet_sim()"
   ]
  },
  {
   "cell_type": "code",
   "execution_count": null,
   "metadata": {},
   "outputs": [],
   "source": []
  },
  {
   "cell_type": "markdown",
   "metadata": {},
   "source": [
    "## Test Controller in ControlHub"
   ]
  },
  {
   "cell_type": "markdown",
   "metadata": {},
   "source": [
    "### load robots and initialize control hub"
   ]
  },
  {
   "cell_type": "code",
   "execution_count": 11,
   "metadata": {},
   "outputs": [],
   "source": [
    "ROBOT_TYPE = RobotType.KUKA_IIWA\n",
    "ROWS = 1\n",
    "COLS = 5\n",
    "UI_PORT_BASE = 9900\n",
    "TRAJ_PORT_BASE = 9800\n",
    "pc_mat = []\n",
    "for i in range(ROWS):\n",
    "    pc_list = []\n",
    "    for j in range(COLS):\n",
    "        pc = BulletControlHubClient(get_urdf_path(ROBOT_TYPE), \n",
    "                                    xyz=(i,j,0))\n",
    "        pc.set_control_hub(ui_port=UI_PORT_BASE+i*COLS+j, \n",
    "                           traj_port=TRAJ_PORT_BASE+i*COLS+j) ## Init ControlHub\n",
    "        pc_list.append(pc)\n",
    "    pc_mat.append(pc_list)"
   ]
  },
  {
   "cell_type": "markdown",
   "metadata": {},
   "source": [
    "### Initialize states"
   ]
  },
  {
   "cell_type": "code",
   "execution_count": 12,
   "metadata": {},
   "outputs": [],
   "source": [
    "if ROBOT_TYPE==RobotType.INDY7:\n",
    "    Q0 = [0, 0, -np.pi / 2, 0, -np.pi / 2, 0] # for indy\n",
    "else:\n",
    "    Q0 = [0, -np.pi / 8, 0, np.pi / 4,  0, -np.pi / 8, 0] # for iiwa\n",
    "Q2 = np.add(Q0, np.pi/2)\n",
    "\n",
    "for i in range(ROWS):\n",
    "    for j in range(COLS):\n",
    "        pc_mat[i][j].initialize_state(Q=Q0)"
   ]
  },
  {
   "cell_type": "code",
   "execution_count": null,
   "metadata": {},
   "outputs": [],
   "source": []
  },
  {
   "cell_type": "markdown",
   "metadata": {},
   "source": [
    "### Change gamma values"
   ]
  },
  {
   "cell_type": "code",
   "execution_count": 13,
   "metadata": {},
   "outputs": [
    {
     "name": "stdout",
     "output_type": "stream",
     "text": [
      "URI sent: http://localhost:9900/param_setting?Gamma0=0.04\n",
      "URI sent: http://localhost:9901/param_setting?Gamma0=0.16\n",
      "URI sent: http://localhost:9902/param_setting?Gamma0=0.36\n",
      "URI sent: http://localhost:9903/param_setting?Gamma0=0.64\n",
      "URI sent: http://localhost:9904/param_setting?Gamma0=1.0\n"
     ]
    }
   ],
   "source": [
    "wc_mat = []\n",
    "gamma_list = []\n",
    "for i in range(ROWS):\n",
    "    wc_list = []\n",
    "    for j in range(COLS):\n",
    "        wc = WebClient(ip='localhost', port=pc_mat[i][j].ui_port)\n",
    "        gamma = round(((1.0+i*COLS+j)/(COLS*ROWS))**2, 4)\n",
    "        wc.change_gain(Gamma0=gamma)\n",
    "        gamma_list.append(gamma)\n",
    "        wc_list.append(wc)\n",
    "    wc_mat.append(wc_list)"
   ]
  },
  {
   "cell_type": "code",
   "execution_count": null,
   "metadata": {},
   "outputs": [],
   "source": []
  },
  {
   "cell_type": "markdown",
   "metadata": {},
   "source": [
    "### Send motions"
   ]
  },
  {
   "cell_type": "code",
   "execution_count": 14,
   "metadata": {},
   "outputs": [],
   "source": [
    "tc_mat = []\n",
    "N_div = 50\n",
    "for i in range(ROWS):\n",
    "    tc_list = []\n",
    "    for j in range(COLS):\n",
    "        tc = TrajectoryClient(\"localhost\", server_port=pc_mat[i][j].traj_port)\n",
    "        tc.move_joint_s_curve(Q2, q0=Q0, N_div=N_div, \n",
    "                              start_tracking=False, auto_stop=False, \n",
    "                              wait_finish=False)\n",
    "        tc.move_joint_s_curve(Q0, q0=Q2, N_div=N_div, \n",
    "                              start_tracking=False, auto_stop=False, \n",
    "                              wait_finish=False)\n",
    "        tc.start_tracking()\n",
    "        tc_list.append(tc)\n",
    "    tc_mat.append(tc_list)"
   ]
  },
  {
   "cell_type": "code",
   "execution_count": null,
   "metadata": {},
   "outputs": [],
   "source": []
  },
  {
   "cell_type": "markdown",
   "metadata": {},
   "source": [
    "### Fast SImulation\n",
    "* Non-realtime fast simulation"
   ]
  },
  {
   "cell_type": "code",
   "execution_count": 15,
   "metadata": {},
   "outputs": [],
   "source": [
    "traj_time = (N_div*2)/tc.traj_freq\n",
    "control_steps = traj_time/pc.DT\n",
    "start_simulation_thread(realtime=False, step_num=control_steps*1.5) # Simulation ON"
   ]
  },
  {
   "cell_type": "code",
   "execution_count": 16,
   "metadata": {},
   "outputs": [
    {
     "name": "stdout",
     "output_type": "stream",
     "text": [
      "[INFO] simulation thread stopped\n"
     ]
    }
   ],
   "source": [
    "while not is_sim_stopped():\n",
    "    time.sleep(0.1)"
   ]
  },
  {
   "cell_type": "code",
   "execution_count": 17,
   "metadata": {},
   "outputs": [
    {
     "data": {
      "text/plain": [
       "<matplotlib.legend.Legend at 0x7f2a517bd080>"
      ]
     },
     "execution_count": 17,
     "metadata": {},
     "output_type": "execute_result"
    },
    {
     "data": {
      "image/png": "[encoded data removed]",
      "text/plain": [
       "<Figure size 432x288 with 1 Axes>"
      ]
     },
     "metadata": {},
     "output_type": "display_data"
    }
   ],
   "source": [
    "Qlist = []\n",
    "for i in range(ROWS):\n",
    "    for j in range(COLS):\n",
    "        Qlist.append(tc_mat[i][j].get_qcur())\n",
    "Qlist = np.array(Qlist)\n",
    "plt.plot(gamma_list, np.abs(np.rad2deg(np.subtract(Qlist, Q0))), '-o')\n",
    "plt.title(\"end-time error (deg)\")\n",
    "plt.xlabel(\"gamma\")\n",
    "plt.legend([\"joint{}\".format(i+1) for i in range(pc.joint_num)])"
   ]
  },
  {
   "cell_type": "code",
   "execution_count": null,
   "metadata": {},
   "outputs": [],
   "source": []
  },
  {
   "cell_type": "markdown",
   "metadata": {},
   "source": [
    "## Unload Robots"
   ]
  },
  {
   "cell_type": "code",
   "execution_count": 18,
   "metadata": {},
   "outputs": [],
   "source": [
    "for i in range(ROWS):\n",
    "    for j in range(COLS):\n",
    "        pc_mat[i][j].unload()"
   ]
  },
  {
   "cell_type": "code",
   "execution_count": null,
   "metadata": {},
   "outputs": [],
   "source": []
  },
  {
   "cell_type": "code",
   "execution_count": null,
   "metadata": {},
   "outputs": [],
   "source": []
  }
 ],
 "metadata": {
  "kernelspec": {
   "display_name": "Python 3",
   "language": "python",
   "name": "python3"
  },
  "language_info": {
   "codemirror_mode": {
    "name": "ipython",
    "version": 3
   },
   "file_extension": ".py",
   "mimetype": "text/x-python",
   "name": "python",
   "nbconvert_exporter": "python",
   "pygments_lexer": "ipython3",
   "version": "3.6.9"
  }
 },
 "nbformat": 4,
 "nbformat_minor": 5
}
