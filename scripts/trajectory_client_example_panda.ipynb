{
 "cells": [
  {
   "cell_type": "markdown",
   "metadata": {},
   "source": [
    "## How to use Desk\n",
    "Desk is Franka Emika‘s web-based, intuitive and graphical programming and user interface.\n",
    "* link: https://{PANDA-IP}/desk/\n",
    "\n",
    "```Pilot mode``` [Tablet / End-effector]\n",
    "\n",
    "* Tablet: control by apps on GUI\n",
    "        drag & drop apps icon on blank area and save position, set velocity & acceleration of motion\n",
    "        click 'Run the task' button to run teached motion \n",
    "* End-effector: control by buttons which located on top of the robot\n",
    "\n",
    "\n",
    "```Guiding mode``` [Translation / Rotation / Free move / User]\n",
    "\n",
    "* Translation: Only translatioal movement is possible on end-effector\n",
    "* Rotation: Only rotational movement is possible on end-effector\n",
    "* Rotation: Both rotational and translatioal movements are possible on end-effector\n",
    "* User: User can restrict direction of movement on end-effector(X, Y, Z, R, P, Y)\n",
    "\n",
    "\n",
    "\n",
    "```Joints``` [Lock / Unlock]\n",
    "\n",
    "* Lock: lock all joints mechanically to make Panda cannot move \n",
    "* Unlock: Unlock the joints to make Panda can move\n",
    "\n",
    "```Robot status```\n",
    "\n",
    "* status of each part of Panda\n",
    "* the status represented by color which is refered to below 'Operating mode'"
   ]
  },
  {
   "cell_type": "markdown",
   "metadata": {},
   "source": [
    "## Operating mode\n",
    "```WHITE [Interactive]```\n",
    "* robot can move interacitively (direct teaching; push enabling button)\n",
    "\n",
    "```BLUE [Activation]```\n",
    "\n",
    "* recieve signal from PC and move based on the signal (pull enabling button)\n",
    "\n",
    "```GREEN [Automatic execution]```\n",
    "* carrying out an automatic program (moving from Desk)\n",
    "\n",
    "```YELLOW [Lock]```\n",
    "* joints are locked mechanically, so it cannot move (immediately after turn on Panda)\n",
    "\n",
    "```PINK [Conflict]```\n",
    "\n",
    "* occured conflict from get different operating mode signals simultaneously  \n",
    "\n",
    "```RED [Error]```\n",
    "\n",
    "* occured some errors"
   ]
  },
  {
   "cell_type": "markdown",
   "metadata": {},
   "source": [
    "## How to implement \n",
    "```Controller (joint_control_rnb.launch)```\n",
    "* see below cell\n",
    "\n",
    "```Web UI```\n",
    "* After executing joint_control_rnb.launch, control WebUI is on http://{PANDA-IP}:9990/\n",
    "```\n",
    "Select controller : change a controller\n",
    "Set Default : set current controller as default\n",
    "Apply : after change gains, press 'Apply' button\n",
    "Save & Load : save current gain values & load saved values\n",
    "Restart log & Pause log : start & pause log\n",
    "Download full : save logged data as .csv file (only last 30 secs data can be saved)\n",
    "```\n",
    "\n",
    "```\n",
    "Tip : before download saved data, pause log at the first\n",
    "```\n",
    "```Making trajectory (trajectroy_client)```\n",
    "* follow this 'trajectory_client_example'"
   ]
  },
  {
   "cell_type": "markdown",
   "metadata": {},
   "source": [
    "## Launch controller\n",
    "* Execute below command after replacing {PANDA-IP} with the IP of Panda robot\n",
    "```bash\n",
    "roslaunch panda_control joint_control_rnb.launch robot_ip:={PANDA-IP} load_gripper:=false\n",
    "```\n",
    "\n",
    "* Tip\n",
    "```\n",
    "If an interruption (ex. error) occured on controller, push & pull enabling button and restart controller\n",
    "```"
   ]
  },
  {
   "cell_type": "markdown",
   "metadata": {},
   "source": [
    "## You need urdf_parser_py to use kinematics functions\n",
    "```bash\n",
    "pip install urdf_parser_py.py\n",
    "```"
   ]
  },
  {
   "cell_type": "code",
   "execution_count": null,
   "metadata": {},
   "outputs": [],
   "source": [
    "# ! pip install urdf_parser_py"
   ]
  },
  {
   "cell_type": "markdown",
   "metadata": {},
   "source": [
    "## Initialize panda client"
   ]
  },
  {
   "cell_type": "code",
   "execution_count": 1,
   "metadata": {},
   "outputs": [],
   "source": [
    "from utils.trajectory_client.trajectory_client import *\n",
    "from utils.trajectory_client.panda_trajectory_client import PandaTrajectoryClient\n",
    "traj_client = PandaTrajectoryClient(server_ip=\"192.168.21.14\", robot_ip=\"192.168.21.13\")"
   ]
  },
  {
   "cell_type": "markdown",
   "metadata": {},
   "source": [
    "## Testing short motion"
   ]
  },
  {
   "cell_type": "code",
   "execution_count": 2,
   "metadata": {},
   "outputs": [],
   "source": [
    "Q1 = traj_client.get_qcur()\n",
    "Q2 = np.add(Q1, np.pi/36)"
   ]
  },
  {
   "cell_type": "code",
   "execution_count": 13,
   "metadata": {},
   "outputs": [],
   "source": [
    "traj_client.move_joint_s_curve(Q2, N_div=50)"
   ]
  },
  {
   "cell_type": "code",
   "execution_count": 4,
   "metadata": {},
   "outputs": [],
   "source": [
    "traj_client.move_joint_s_curve(Q1, N_div=50)"
   ]
  },
  {
   "cell_type": "code",
   "execution_count": null,
   "metadata": {},
   "outputs": [],
   "source": []
  },
  {
   "cell_type": "markdown",
   "metadata": {},
   "source": [
    "## direct teaching"
   ]
  },
  {
   "cell_type": "code",
   "execution_count": 5,
   "metadata": {},
   "outputs": [],
   "source": [
    "qlist=[]"
   ]
  },
  {
   "cell_type": "markdown",
   "metadata": {},
   "source": [
    "#### Set the controller to gravity compensator and run below cell multiple times to save waypoints\n",
    "* You don't have to press enabling button for direct teaching"
   ]
  },
  {
   "cell_type": "code",
   "execution_count": 14,
   "metadata": {},
   "outputs": [
    {
     "name": "stdout",
     "output_type": "stream",
     "text": [
      "q: [0.0925, -0.2976, 0.1034, -1.5107, 0.073, 1.6572, 1.6582]\n"
     ]
    }
   ],
   "source": [
    "qlist.append(traj_client.get_qcur())\n",
    "print(\"q: {}\".format(qlist[-1]))\n"
   ]
  },
  {
   "cell_type": "markdown",
   "metadata": {},
   "source": [
    "#### list all saved waypoints"
   ]
  },
  {
   "cell_type": "code",
   "execution_count": 9,
   "metadata": {},
   "outputs": [
    {
     "name": "stdout",
     "output_type": "stream",
     "text": [
      "q0: [0.0054, -0.3848, 0.0163, -1.5972, -0.0129, 1.5704, 1.5723]\n",
      "q1: [0.0054, -0.3848, 0.0162, -1.5973, -0.0129, 1.5703, 1.5721]\n",
      "q2: [0.0054, -0.3848, 0.0162, -1.5973, -0.013, 1.5703, 1.5721]\n"
     ]
    }
   ],
   "source": [
    "for i_q, q in enumerate(qlist):\n",
    "    print(\"q{}: {}\".format(i_q, q))"
   ]
  },
  {
   "cell_type": "markdown",
   "metadata": {},
   "source": [
    "#### update target position and reset controller for safety"
   ]
  },
  {
   "cell_type": "code",
   "execution_count": 15,
   "metadata": {},
   "outputs": [
    {
     "data": {
      "text/plain": [
       "{'step_c': 20}"
      ]
     },
     "execution_count": 15,
     "metadata": {},
     "output_type": "execute_result"
    }
   ],
   "source": [
    "traj_client.move_joint_s_curve(traj_client.get_qcur(), N_div=50)\n",
    "traj_client.reset()"
   ]
  },
  {
   "cell_type": "markdown",
   "metadata": {},
   "source": [
    "#### Set controller to NRIC_PD or other active one  - if the robot moves abruptly, restart the controller program"
   ]
  },
  {
   "cell_type": "markdown",
   "metadata": {},
   "source": [
    "#### Run below cell to repeat the waypoint motion (move_joint_s_curve version)"
   ]
  },
  {
   "cell_type": "code",
   "execution_count": 16,
   "metadata": {},
   "outputs": [],
   "source": [
    "for _ in range(3):\n",
    "    for q in qlist:\n",
    "        traj_client.move_joint_s_curve(q, N_div=50) # adjust speed by N_div"
   ]
  },
  {
   "cell_type": "markdown",
   "metadata": {},
   "source": [
    "#### Run below cell to repeat the waypoint motion (move_joint_wp version)"
   ]
  },
  {
   "cell_type": "code",
   "execution_count": 17,
   "metadata": {},
   "outputs": [],
   "source": [
    "for _ in range(3):\n",
    "    traj_client.move_joint_wp(qlist, vel_lims=0.5, acc_lims=0.5, auto_stop=True) # adjust speed by vel_lims and acc_lims"
   ]
  },
  {
   "cell_type": "code",
   "execution_count": null,
   "metadata": {},
   "outputs": [],
   "source": []
  },
  {
   "cell_type": "markdown",
   "metadata": {},
   "source": [
    "## Task trajectory generation"
   ]
  },
  {
   "cell_type": "code",
   "execution_count": 18,
   "metadata": {},
   "outputs": [
    {
     "name": "stderr",
     "output_type": "stream",
     "text": [
      "Unknown tag \"material\" in /robot[@name='panda']/link[@name='panda_link0']/collision[1]\n",
      "Unknown tag \"material\" in /robot[@name='panda']/link[@name='panda_link1']/collision[1]\n",
      "Unknown tag \"material\" in /robot[@name='panda']/link[@name='panda_link2']/collision[1]\n",
      "Unknown tag \"material\" in /robot[@name='panda']/link[@name='panda_link3']/collision[1]\n",
      "Unknown tag \"material\" in /robot[@name='panda']/link[@name='panda_link4']/collision[1]\n",
      "Unknown tag \"material\" in /robot[@name='panda']/link[@name='panda_link5']/collision[1]\n",
      "Unknown tag \"material\" in /robot[@name='panda']/link[@name='panda_link6']/collision[1]\n",
      "Unknown tag \"material\" in /robot[@name='panda']/link[@name='panda_link7']/collision[1]\n"
     ]
    }
   ],
   "source": [
    "from urdf_parser_py.urdf import URDF\n",
    "from utils.joint_utils import *\n",
    "from utils.traj_utils import *\n",
    "\n",
    "urdf_content = URDF.from_xml_file(\"../urdf/panda/panda_bullet.urdf\")\n",
    "link_names = get_link_names(urdf_content)\n",
    "joint_names = get_joint_names(urdf_content)\n",
    "base_link, tip_link = link_names[0], link_names[-1]"
   ]
  },
  {
   "cell_type": "code",
   "execution_count": null,
   "metadata": {},
   "outputs": [],
   "source": []
  },
  {
   "cell_type": "markdown",
   "metadata": {},
   "source": [
    "### Calculate task trajectory"
   ]
  },
  {
   "cell_type": "code",
   "execution_count": 19,
   "metadata": {},
   "outputs": [],
   "source": [
    "from utils.algebra import *"
   ]
  },
  {
   "cell_type": "code",
   "execution_count": 21,
   "metadata": {},
   "outputs": [],
   "source": [
    "## get current Q0, T0\n",
    "Q0 = traj_client.get_qcur()\n",
    "T0 = get_tf(tip_link, list2dict(Q0, joint_names), \n",
    "            urdf_content, from_link=base_link)"
   ]
  },
  {
   "cell_type": "code",
   "execution_count": 22,
   "metadata": {},
   "outputs": [],
   "source": [
    "## make target\n",
    "dT = SE3(Rot_axis(1,0), (0,0.1,0))\n",
    "Ttar = np.matmul(T0, dT)"
   ]
  },
  {
   "cell_type": "code",
   "execution_count": 23,
   "metadata": {},
   "outputs": [],
   "source": [
    "P0 = np.concatenate([T0[:3,3], list(reversed(Rot2zyx(T0[:3,:3])))])\n",
    "P1 = np.concatenate([Ttar[:3,3], list(reversed(Rot2zyx(Ttar[:3,:3])))])"
   ]
  },
  {
   "cell_type": "code",
   "execution_count": 24,
   "metadata": {},
   "outputs": [],
   "source": [
    "## Calculate s-curve trajectory in task space\n",
    "se3_alg = Combined([Euclidean(3), RotationUVW()])\n",
    "\n",
    "\n",
    "N_div = 100\n",
    "dp = se3_alg.diff_in_alg(P0, [P1])\n",
    "\n",
    "# make double-S curve in algebra\n",
    "dp_traj = dp * (\n",
    "    np.sin(np.pi * (np.arange(N_div,dtype=float)[:,np.newaxis] / N_div - 0.5)) + 1) / 2"
   ]
  },
  {
   "cell_type": "code",
   "execution_count": null,
   "metadata": {},
   "outputs": [],
   "source": []
  },
  {
   "cell_type": "markdown",
   "metadata": {},
   "source": [
    "### Calculate joint trajectory"
   ]
  },
  {
   "cell_type": "code",
   "execution_count": 26,
   "metadata": {},
   "outputs": [],
   "source": [
    "dp_list = dp_traj[1:]-dp_traj[:-1]\n",
    "Qi = np.copy(Q0)\n",
    "joint_traj = []\n",
    "for dp_i in dp_list:\n",
    "    J = get_jacobian(\n",
    "        tip_link, urdf_content, Qi, joint_names, ref_link=base_link)\n",
    "    Qi += np.matmul(np.linalg.pinv(J), dp_i)\n",
    "    joint_traj.append(np.copy(Qi))\n",
    "Qfin = Qi"
   ]
  },
  {
   "cell_type": "code",
   "execution_count": null,
   "metadata": {},
   "outputs": [],
   "source": []
  },
  {
   "cell_type": "markdown",
   "metadata": {},
   "source": [
    "### check trajectory "
   ]
  },
  {
   "cell_type": "code",
   "execution_count": 1,
   "metadata": {},
   "outputs": [],
   "source": [
    "import matplotlib.pyplot as plt"
   ]
  },
  {
   "cell_type": "code",
   "execution_count": null,
   "metadata": {},
   "outputs": [],
   "source": [
    "plt.plot(joint_traj)"
   ]
  },
  {
   "cell_type": "code",
   "execution_count": null,
   "metadata": {},
   "outputs": [],
   "source": []
  },
  {
   "cell_type": "markdown",
   "metadata": {},
   "source": [
    "### Move along joint trajectory"
   ]
  },
  {
   "cell_type": "code",
   "execution_count": 30,
   "metadata": {},
   "outputs": [],
   "source": [
    "traj_client.move_joint_traj(joint_traj)"
   ]
  },
  {
   "cell_type": "code",
   "execution_count": null,
   "metadata": {},
   "outputs": [],
   "source": []
  },
  {
   "cell_type": "markdown",
   "metadata": {},
   "source": [
    "### using gripper"
   ]
  },
  {
   "cell_type": "code",
   "execution_count": 31,
   "metadata": {},
   "outputs": [
    {
     "data": {
      "text/plain": [
       "True"
      ]
     },
     "execution_count": 31,
     "metadata": {},
     "output_type": "execute_result"
    }
   ],
   "source": [
    "traj_client.grasp(True)"
   ]
  },
  {
   "cell_type": "code",
   "execution_count": 32,
   "metadata": {
    "scrolled": true
   },
   "outputs": [
    {
     "data": {
      "text/plain": [
       "False"
      ]
     },
     "execution_count": 32,
     "metadata": {},
     "output_type": "execute_result"
    }
   ],
   "source": [
    "traj_client.grasp(False)"
   ]
  },
  {
   "cell_type": "code",
   "execution_count": 35,
   "metadata": {},
   "outputs": [],
   "source": [
    "traj_client.move_gripper(0.05)"
   ]
  },
  {
   "cell_type": "code",
   "execution_count": 34,
   "metadata": {
    "scrolled": true
   },
   "outputs": [],
   "source": [
    "traj_client.move_gripper(0.01)"
   ]
  }
 ],
 "metadata": {
  "kernelspec": {
   "display_name": "Python 2",
   "language": "python",
   "name": "python2"
  },
  "language_info": {
   "codemirror_mode": {
    "name": "ipython",
    "version": 2
   },
   "file_extension": ".py",
   "mimetype": "text/x-python",
   "name": "python",
   "nbconvert_exporter": "python",
   "pygments_lexer": "ipython2",
   "version": "2.7.17"
  }
 },
 "nbformat": 4,
 "nbformat_minor": 2
}
