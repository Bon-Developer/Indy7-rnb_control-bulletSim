{
 "cells": [
  {
   "cell_type": "markdown",
   "metadata": {},
   "source": [
    "## How to use IndySDK\n",
    "#### IndySDK \n",
    "Details are in IndyControlRNB/README\n",
    "\n",
    "#### Web UI\n",
    "* Joint control WebUI is on http://{Indy-IP}:9990/\n",
    "* Task control WebUI is on http://{Indy-IP}:9991/ (If TaskControlRNB is used in indyDeploy.json)\n",
    "* An instruction for Web UI is in [rnb-control/README.md](../README.md)\n"
   ]
  },
  {
   "cell_type": "markdown",
   "metadata": {},
   "source": [
    "## You need urdf_parser_py to use kinematics functions\n",
    "```bash\n",
    "pip install urdf_parser_py.py\n",
    "```"
   ]
  },
  {
   "cell_type": "code",
   "execution_count": 1,
   "metadata": {},
   "outputs": [],
   "source": [
    "# ! pip install urdf_parser_py"
   ]
  },
  {
   "cell_type": "markdown",
   "metadata": {},
   "source": [
    "### Run below cell"
   ]
  },
  {
   "cell_type": "code",
   "execution_count": 1,
   "metadata": {},
   "outputs": [],
   "source": [
    "from utils.trajectory_client.indy_trajectory_client import IndyTrajectoryClient\n",
    "traj_client = IndyTrajectoryClient(server_ip=\"192.168.21.6\")"
   ]
  },
  {
   "cell_type": "code",
   "execution_count": null,
   "metadata": {},
   "outputs": [],
   "source": []
  },
  {
   "cell_type": "markdown",
   "metadata": {},
   "source": [
    "## Testing short motion"
   ]
  },
  {
   "cell_type": "code",
   "execution_count": 6,
   "metadata": {},
   "outputs": [],
   "source": [
    "import numpy as np"
   ]
  },
  {
   "cell_type": "code",
   "execution_count": 7,
   "metadata": {},
   "outputs": [],
   "source": [
    "Q1 = traj_client.get_qcur()\n",
    "Q2 = np.add(Q1, np.pi/36)"
   ]
  },
  {
   "cell_type": "code",
   "execution_count": 12,
   "metadata": {},
   "outputs": [
    {
     "name": "stdout",
     "output_type": "stream",
     "text": [
      "Connect: Server IP (192.168.21.6)\n",
      "Connect: Server IP (192.168.21.6)\n"
     ]
    }
   ],
   "source": [
    "traj_client.move_joint_s_curve(Q2, N_div=50)"
   ]
  },
  {
   "cell_type": "code",
   "execution_count": 9,
   "metadata": {},
   "outputs": [
    {
     "name": "stdout",
     "output_type": "stream",
     "text": [
      "Connect: Server IP (192.168.21.6)\n",
      "Connect: Server IP (192.168.21.6)\n"
     ]
    }
   ],
   "source": [
    "traj_client.move_joint_s_curve(Q1, N_div=50)"
   ]
  },
  {
   "cell_type": "code",
   "execution_count": null,
   "metadata": {},
   "outputs": [],
   "source": []
  },
  {
   "cell_type": "markdown",
   "metadata": {},
   "source": [
    "## direct teaching"
   ]
  },
  {
   "cell_type": "code",
   "execution_count": 10,
   "metadata": {},
   "outputs": [],
   "source": [
    "qlist=[]"
   ]
  },
  {
   "cell_type": "markdown",
   "metadata": {},
   "source": [
    "#### Set the controller to gravity compensator and run below cell multiple times to save waypoints\n",
    "* You don't have to press enabling button for direct teaching"
   ]
  },
  {
   "cell_type": "code",
   "execution_count": 13,
   "metadata": {},
   "outputs": [
    {
     "name": "stdout",
     "output_type": "stream",
     "text": [
      "q: [0.0869, 0.0873, -1.4844, 0.0883, -1.4838, 0.0823]\n"
     ]
    }
   ],
   "source": [
    "qlist.append(traj_client.get_qcur())\n",
    "print(\"q: {}\".format(qlist[-1]))"
   ]
  },
  {
   "cell_type": "markdown",
   "metadata": {},
   "source": [
    "#### list all saved waypoints"
   ]
  },
  {
   "cell_type": "code",
   "execution_count": 14,
   "metadata": {},
   "outputs": [
    {
     "name": "stdout",
     "output_type": "stream",
     "text": [
      "q0: [-0.0004, -0.0002, -1.5712, 0.0015, -1.5706, -0.0021]\n",
      "q1: [0.0869, 0.0873, -1.4844, 0.0883, -1.4838, 0.0823]\n"
     ]
    }
   ],
   "source": [
    "for i_q, q in enumerate(qlist):\n",
    "    print(\"q{}: {}\".format(i_q, q))"
   ]
  },
  {
   "cell_type": "markdown",
   "metadata": {},
   "source": [
    "#### update target position and reset controller for safety"
   ]
  },
  {
   "cell_type": "code",
   "execution_count": 15,
   "metadata": {},
   "outputs": [
    {
     "name": "stdout",
     "output_type": "stream",
     "text": [
      "Connect: Server IP (192.168.21.6)\n",
      "Connect: Server IP (192.168.21.6)\n",
      "Connect: Server IP (192.168.21.6)\n"
     ]
    },
    {
     "data": {
      "text/plain": [
       "{}"
      ]
     },
     "execution_count": 15,
     "metadata": {},
     "output_type": "execute_result"
    }
   ],
   "source": [
    "traj_client.move_joint_s_curve(traj_client.get_qcur(), N_div=50)\n",
    "traj_client.reset()"
   ]
  },
  {
   "cell_type": "markdown",
   "metadata": {},
   "source": [
    "#### Set controller to NRIC_PD or other active one  - if the robot moves abruptly, restart the controller program"
   ]
  },
  {
   "cell_type": "markdown",
   "metadata": {},
   "source": [
    "#### Run below cell to repeat the waypoint motion (move_joint_s_curve version)"
   ]
  },
  {
   "cell_type": "code",
   "execution_count": 16,
   "metadata": {},
   "outputs": [
    {
     "name": "stdout",
     "output_type": "stream",
     "text": [
      "Connect: Server IP (192.168.21.6)\n",
      "Connect: Server IP (192.168.21.6)\n",
      "Connect: Server IP (192.168.21.6)\n",
      "Connect: Server IP (192.168.21.6)\n",
      "Connect: Server IP (192.168.21.6)\n",
      "Connect: Server IP (192.168.21.6)\n",
      "Connect: Server IP (192.168.21.6)\n",
      "Connect: Server IP (192.168.21.6)\n",
      "Connect: Server IP (192.168.21.6)\n",
      "Connect: Server IP (192.168.21.6)\n",
      "Connect: Server IP (192.168.21.6)\n",
      "Connect: Server IP (192.168.21.6)\n"
     ]
    }
   ],
   "source": [
    "for _ in range(3):\n",
    "    for q in qlist:\n",
    "        traj_client.move_joint_s_curve(q, N_div=50) # adjust speed by N_div"
   ]
  },
  {
   "cell_type": "markdown",
   "metadata": {},
   "source": [
    "#### Run below cell to repeat the waypoint motion (move_joint_wp version)"
   ]
  },
  {
   "cell_type": "code",
   "execution_count": 17,
   "metadata": {},
   "outputs": [
    {
     "name": "stdout",
     "output_type": "stream",
     "text": [
      "Connect: Server IP (192.168.21.6)\n",
      "Connect: Server IP (192.168.21.6)\n",
      "Connect: Server IP (192.168.21.6)\n"
     ]
    }
   ],
   "source": [
    "for _ in range(3):\n",
    "    traj_client.move_joint_wp(qlist, vel_lims=0.5, acc_lims=0.5, auto_stop=True) # adjust speed by vel_lims and acc_lims"
   ]
  },
  {
   "cell_type": "code",
   "execution_count": null,
   "metadata": {},
   "outputs": [],
   "source": []
  },
  {
   "cell_type": "markdown",
   "metadata": {},
   "source": [
    "## Task trajectory generation"
   ]
  },
  {
   "cell_type": "markdown",
   "metadata": {},
   "source": [
    "### Prepare urdf content"
   ]
  },
  {
   "cell_type": "code",
   "execution_count": 18,
   "metadata": {},
   "outputs": [
    {
     "name": "stderr",
     "output_type": "stream",
     "text": [
      "Scalar element defined multiple times: collision\n",
      "Unknown attribute: version\n"
     ]
    }
   ],
   "source": [
    "from urdf_parser_py.urdf import URDF\n",
    "from utils.joint_utils import *\n",
    "from utils.traj_utils import *\n",
    "\n",
    "urdf_content = URDF.from_xml_file(\"../urdf/indy7/indy7.urdf\")\n",
    "link_names = get_link_names(urdf_content)\n",
    "joint_names = get_joint_names(urdf_content)\n",
    "base_link, tip_link = link_names[0], link_names[-1]"
   ]
  },
  {
   "cell_type": "code",
   "execution_count": null,
   "metadata": {},
   "outputs": [],
   "source": []
  },
  {
   "cell_type": "markdown",
   "metadata": {},
   "source": [
    "### Calculate task trajectory"
   ]
  },
  {
   "cell_type": "code",
   "execution_count": 19,
   "metadata": {},
   "outputs": [],
   "source": [
    "from utils.algebra import *"
   ]
  },
  {
   "cell_type": "code",
   "execution_count": 21,
   "metadata": {},
   "outputs": [],
   "source": [
    "## get current Q0, T0\n",
    "Q0 = traj_client.get_qcur()\n",
    "T0 = get_tf(tip_link, list2dict(Q0, joint_names), \n",
    "            urdf_content, from_link=base_link)"
   ]
  },
  {
   "cell_type": "code",
   "execution_count": 22,
   "metadata": {},
   "outputs": [],
   "source": [
    "## make target\n",
    "dT = SE3(Rot_axis(1,0), (0,0.1,0))\n",
    "Ttar = np.matmul(T0, dT)"
   ]
  },
  {
   "cell_type": "code",
   "execution_count": 23,
   "metadata": {},
   "outputs": [],
   "source": [
    "P0 = np.concatenate([T0[:3,3], list(reversed(Rot2zyx(T0[:3,:3])))])\n",
    "P1 = np.concatenate([Ttar[:3,3], list(reversed(Rot2zyx(Ttar[:3,:3])))])"
   ]
  },
  {
   "cell_type": "code",
   "execution_count": 25,
   "metadata": {},
   "outputs": [],
   "source": [
    "## Calculate s-curve trajectory in task space\n",
    "se3_alg = Combined([Euclidean(3), RotationUVW()])\n",
    "\n",
    "\n",
    "N_div = 100\n",
    "dp = se3_alg.diff_in_alg(P0, [P1])\n",
    "\n",
    "# make double-S curve in algebra\n",
    "dp_traj = dp * (\n",
    "    np.sin(np.pi * (np.arange(N_div,dtype=float)[:,np.newaxis] / N_div - 0.5)) + 1) / 2"
   ]
  },
  {
   "cell_type": "code",
   "execution_count": null,
   "metadata": {},
   "outputs": [],
   "source": []
  },
  {
   "cell_type": "markdown",
   "metadata": {},
   "source": [
    "### Calculate joint trajectory"
   ]
  },
  {
   "cell_type": "code",
   "execution_count": 27,
   "metadata": {},
   "outputs": [],
   "source": [
    "dp_list = dp_traj[1:]-dp_traj[:-1]\n",
    "Qi = np.copy(Q0)\n",
    "joint_traj = []\n",
    "for dp_i in dp_list:\n",
    "    J = get_jacobian(\n",
    "        tip_link, urdf_content, Qi, joint_names, ref_link=base_link)\n",
    "    Qi += np.matmul(np.linalg.pinv(J), dp_i)\n",
    "    joint_traj.append(np.copy(Qi))\n",
    "Qfin = Qi"
   ]
  },
  {
   "cell_type": "code",
   "execution_count": null,
   "metadata": {},
   "outputs": [],
   "source": []
  },
  {
   "cell_type": "markdown",
   "metadata": {},
   "source": [
    "### check trajectory "
   ]
  },
  {
   "cell_type": "code",
   "execution_count": 28,
   "metadata": {},
   "outputs": [],
   "source": [
    "import matplotlib.pyplot as plt"
   ]
  },
  {
   "cell_type": "code",
   "execution_count": 29,
   "metadata": {},
   "outputs": [
    {
     "data": {
      "text/plain": [
       "[<matplotlib.lines.Line2D at 0x16cab154850>,\n",
       " <matplotlib.lines.Line2D at 0x16cac6383d0>,\n",
       " <matplotlib.lines.Line2D at 0x16cac638490>,\n",
       " <matplotlib.lines.Line2D at 0x16cac638550>,\n",
       " <matplotlib.lines.Line2D at 0x16cac638610>,\n",
       " <matplotlib.lines.Line2D at 0x16cac6386d0>]"
      ]
     },
     "execution_count": 29,
     "metadata": {},
     "output_type": "execute_result"
    },
    {
     "data": {
      "image/png": "[encoded data removed]",
      "text/plain": [
       "<Figure size 432x288 with 1 Axes>"
      ]
     },
     "metadata": {
      "needs_background": "light"
     },
     "output_type": "display_data"
    }
   ],
   "source": [
    "plt.plot(joint_traj)"
   ]
  },
  {
   "cell_type": "code",
   "execution_count": null,
   "metadata": {},
   "outputs": [],
   "source": []
  },
  {
   "cell_type": "markdown",
   "metadata": {},
   "source": [
    "### Move along joint trajectory"
   ]
  },
  {
   "cell_type": "code",
   "execution_count": 30,
   "metadata": {},
   "outputs": [
    {
     "name": "stdout",
     "output_type": "stream",
     "text": [
      "Connect: Server IP (192.168.21.6)\n"
     ]
    }
   ],
   "source": [
    "traj_client.move_joint_traj(joint_traj)"
   ]
  },
  {
   "cell_type": "code",
   "execution_count": null,
   "metadata": {},
   "outputs": [],
   "source": []
  },
  {
   "cell_type": "markdown",
   "metadata": {},
   "source": [
    "## Using gripper"
   ]
  },
  {
   "cell_type": "code",
   "execution_count": null,
   "metadata": {},
   "outputs": [],
   "source": [
    "traj_client.grasp(True)"
   ]
  },
  {
   "cell_type": "code",
   "execution_count": null,
   "metadata": {
    "scrolled": true
   },
   "outputs": [],
   "source": [
    "traj_client.grasp(False)"
   ]
  }
 ],
 "metadata": {
  "kernelspec": {
   "display_name": "Python 3",
   "language": "python",
   "name": "python3"
  },
  "language_info": {
   "codemirror_mode": {
    "name": "ipython",
    "version": 3
   },
   "file_extension": ".py",
   "mimetype": "text/x-python",
   "name": "python",
   "nbconvert_exporter": "python",
   "pygments_lexer": "ipython3",
   "version": "3.6.9"
  }
 },
 "nbformat": 4,
 "nbformat_minor": 2
}
