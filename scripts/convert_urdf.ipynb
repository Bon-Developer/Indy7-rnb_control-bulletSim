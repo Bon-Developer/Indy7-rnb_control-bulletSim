{
 "cells": [
  {
   "cell_type": "code",
   "execution_count": 2,
   "id": "056913c1",
   "metadata": {},
   "outputs": [],
   "source": [
    "from utils.utils import copyfile_replace"
   ]
  },
  {
   "cell_type": "markdown",
   "id": "6dd43558",
   "metadata": {},
   "source": [
    "### change mesh package to local folder"
   ]
  },
  {
   "cell_type": "code",
   "execution_count": 13,
   "id": "cf9a139e",
   "metadata": {},
   "outputs": [],
   "source": [
    "copyfile_replace(file_from=\"../urdf/panda/panda.urdf\",\n",
    "                 file_to=\"../urdf/panda/panda_fix.urdf\",\n",
    "                 string_from=\"package://Panda/\",\n",
    "                 string_to=\"\")"
   ]
  },
  {
   "cell_type": "markdown",
   "id": "f967101c",
   "metadata": {},
   "source": [
    "### change prismatic joints (finger) to fixed "
   ]
  },
  {
   "cell_type": "code",
   "execution_count": 14,
   "id": "04fe4e2d",
   "metadata": {},
   "outputs": [],
   "source": [
    "copyfile_replace(file_from=\"../urdf/panda/panda_fix.urdf\",\n",
    "                 file_to=\"../urdf/panda/panda_fix2.urdf\",\n",
    "                 string_from=\"prismatic\",\n",
    "                 string_to=\"fixed\")"
   ]
  },
  {
   "cell_type": "markdown",
   "id": "810d9dd1",
   "metadata": {},
   "source": [
    "### [IMPORTANT] Required modifications\n",
    "\n",
    "* **Remove \"package://{pakage_name}/ to represent mesh files in relative path**\n",
    "* **Remove fixed joints (transfrom childs to the parent)**\n",
    "* **To be used with default BulletSimControl, make the manipulator have single chain**\n",
    "* **Add inertia information**\n",
    "* **Set ```<mass value=\"0\"/>``` for base link to fix it to the world**\n",
    "  - example\n",
    "  ```xml\n",
    "  <link name=\"panda_link0\">\n",
    "                       <inertial>\n",
    "                       <origin rpy=\"0 0 0\" xyz=\"0 0 0\"/>\n",
    "                       <mass value=\"0.0\"/>\n",
    "                       <inertia ixx=\"0.05\" ixy=\"0\" ixz=\"0\" iyy=\"0.06\" iyz=\"0\" izz=\"0.03\"/>\n",
    "                       </inertial>\n",
    "  ```"
   ]
  },
  {
   "cell_type": "code",
   "execution_count": null,
   "id": "2bcce367",
   "metadata": {},
   "outputs": [],
   "source": []
  }
 ],
 "metadata": {
  "kernelspec": {
   "display_name": "Python 3 (ipykernel)",
   "language": "python",
   "name": "python3"
  },
  "language_info": {
   "codemirror_mode": {
    "name": "ipython",
    "version": 3
   },
   "file_extension": ".py",
   "mimetype": "text/x-python",
   "name": "python",
   "nbconvert_exporter": "python",
   "pygments_lexer": "ipython3",
   "version": "3.9.7"
  }
 },
 "nbformat": 4,
 "nbformat_minor": 5
}
