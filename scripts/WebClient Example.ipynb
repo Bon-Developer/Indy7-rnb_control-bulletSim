{
 "cells": [
  {
   "cell_type": "markdown",
   "metadata": {},
   "source": [
    "## Control Hub Web UI python client\n",
    "* This is an example script for WebClient"
   ]
  },
  {
   "cell_type": "markdown",
   "metadata": {},
   "source": [
    "#### Prerequisite\n",
    "* You need to install requests and beautifulsoup4 to access WebUI from python. Install these in the controller PC.\n",
    "```bash\n",
    "pip install requests beautifulsoup4\n",
    "pip3 install requests beautifulsoup4\n",
    "```"
   ]
  },
  {
   "cell_type": "code",
   "execution_count": 1,
   "metadata": {},
   "outputs": [],
   "source": [
    "from web_client import WebClient"
   ]
  },
  {
   "cell_type": "code",
   "execution_count": null,
   "metadata": {},
   "outputs": [],
   "source": []
  },
  {
   "cell_type": "markdown",
   "metadata": {},
   "source": [
    "### Set URI\n",
    "* Enter the **IP** and **PORT** of the WebUI below"
   ]
  },
  {
   "cell_type": "code",
   "execution_count": 2,
   "metadata": {},
   "outputs": [],
   "source": [
    "cstate = WebClient(ip='192.168.0.172', port=9990)"
   ]
  },
  {
   "cell_type": "markdown",
   "metadata": {},
   "source": [
    "### read the WebUI (update the gain values)"
   ]
  },
  {
   "cell_type": "code",
   "execution_count": 3,
   "metadata": {},
   "outputs": [],
   "source": [
    "cstate.read_ui()"
   ]
  },
  {
   "cell_type": "markdown",
   "metadata": {},
   "source": [
    "### print all available gain ids"
   ]
  },
  {
   "cell_type": "code",
   "execution_count": 4,
   "metadata": {},
   "outputs": [
    {
     "name": "stdout",
     "output_type": "stream",
     "text": [
      "['FText_scale0', 'Gamma0', 'K0', 'K1', 'K2', 'K3', 'K4', 'K5', 'K6', 'KI0', 'KI1', 'KI2', 'KI3', 'KI4', 'KI5', 'KI6', 'Kp0', 'Kp1', 'Kp2', 'Kp3', 'Kp4', 'Kp5', 'Kp6', 'M0', 'M1', 'M2', 'M3', 'M4', 'M5', 'M6', 'f_cut0', 'kp_diag0', 'kv_diag0', 'q_off0', 'q_off1', 'q_off2', 'q_off3', 'q_off4', 'q_off5', 'q_off6', 'tauMax0', 'tauMax1', 'tauMax2', 'tauMax3', 'tauMax4', 'tauMax5', 'tauMax6', 'th_sensor0']\n"
     ]
    }
   ],
   "source": [
    "print(cstate.gain_ids_all)"
   ]
  },
  {
   "cell_type": "markdown",
   "metadata": {},
   "source": [
    "### check a gain value by id"
   ]
  },
  {
   "cell_type": "code",
   "execution_count": 5,
   "metadata": {},
   "outputs": [
    {
     "name": "stdout",
     "output_type": "stream",
     "text": [
      "Current gain: K0 = 30.0\n"
     ]
    }
   ],
   "source": [
    "gain_to_check = \"K0\"\n",
    "gain_value = cstate.get_gain_by_id(gain_to_check)\n",
    "print(\"Current gain: {} = {}\".format(gain_to_check, gain_value))"
   ]
  },
  {
   "cell_type": "markdown",
   "metadata": {},
   "source": [
    "### change gain value"
   ]
  },
  {
   "cell_type": "code",
   "execution_count": 7,
   "metadata": {},
   "outputs": [
    {
     "name": "stdout",
     "output_type": "stream",
     "text": [
      "URI sent: http://192.168.0.172:9990/param_setting?K0=30.0\n",
      "Changed gain: K0 = 30.0\n"
     ]
    }
   ],
   "source": [
    "cstate.change_gain(**{gain_to_check:30.0})\n",
    "# You can also call this function like this: cstate.change_gain(K0=30.0, K1=40.0)\n",
    "gain_value_new = cstate.get_gain_by_id(gain_to_check)\n",
    "print(\"Changed gain: {} = {}\".format(gain_to_check, gain_value_new))"
   ]
  },
  {
   "cell_type": "code",
   "execution_count": null,
   "metadata": {},
   "outputs": [],
   "source": []
  }
 ],
 "metadata": {
  "kernelspec": {
   "display_name": "Python 3 (ipykernel)",
   "language": "python",
   "name": "python3"
  },
  "language_info": {
   "codemirror_mode": {
    "name": "ipython",
    "version": 3
   },
   "file_extension": ".py",
   "mimetype": "text/x-python",
   "name": "python",
   "nbconvert_exporter": "python",
   "pygments_lexer": "ipython3",
   "version": "3.9.7"
  }
 },
 "nbformat": 4,
 "nbformat_minor": 2
}
