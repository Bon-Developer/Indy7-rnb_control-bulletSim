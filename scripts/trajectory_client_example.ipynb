{
 "cells": [
  {
   "cell_type": "markdown",
   "metadata": {},
   "source": [
    "## How to use Desk\n",
    "Desk is Franka Emika‘s web-based, intuitive and graphical programming and user interface.\n",
    "* link: https://{PANDA-IP}/desk/\n",
    "\n",
    "```Pilot mode``` [Tablet / End-effector]\n",
    "\n",
    "* Tablet: control by apps on GUI\n",
    "        drag & drop apps icon on blank area and save position, set velocity & acceleration of motion\n",
    "        click 'Run the task' button to run teached motion \n",
    "* End-effector: control by buttons which located on top of the robot\n",
    "\n",
    "\n",
    "```Guiding mode``` [Translation / Rotation / Free move / User]\n",
    "\n",
    "* Translation: Only translatioal movement is possible on end-effector\n",
    "* Rotation: Only rotational movement is possible on end-effector\n",
    "* Rotation: Both rotational and translatioal movements are possible on end-effector\n",
    "* User: User can restrict direction of movement on end-effector(X, Y, Z, R, P, Y)\n",
    "\n",
    "\n",
    "\n",
    "```Joints``` [Lock / Unlock]\n",
    "\n",
    "* Lock: lock all joints mechanically to make Panda cannot move \n",
    "* Unlock: Unlock the joints to make Panda can move\n",
    "\n",
    "```Robot status```\n",
    "\n",
    "* status of each part of Panda\n",
    "* the status represented by color which is refered to below 'Operating mode'"
   ]
  },
  {
   "cell_type": "markdown",
   "metadata": {},
   "source": [
    "## Operating mode\n",
    "```WHITE [Interactive]```\n",
    "* robot can move interacitively (direct teaching; push enabling button)\n",
    "\n",
    "```BLUE [Activation]```\n",
    "\n",
    "* recieve signal from PC and move based on the signal (pull enabling button)\n",
    "\n",
    "```GREEN [Automatic execution]```\n",
    "* carrying out an automatic program (moving from Desk)\n",
    "\n",
    "```YELLOW [Lock]```\n",
    "* joints are locked mechanically, so it cannot move (immediately after turn on Panda)\n",
    "\n",
    "```PINK [Conflict]```\n",
    "\n",
    "* occured conflict from get different operating mode signals simultaneously  \n",
    "\n",
    "```RED [Error]```\n",
    "\n",
    "* occured some errors"
   ]
  },
  {
   "cell_type": "markdown",
   "metadata": {},
   "source": [
    "## How to implement \n",
    "```Controller (joint_control_rnb.launch)```\n",
    "* see below cell\n",
    "\n",
    "```Web UI```\n",
    "* After executing joint_control_rnb.launch, control WebUI is on http://{PANDA-IP}:9990/\n",
    "```\n",
    "Select controller : change a controller\n",
    "Set Default : set current controller as default\n",
    "Apply : after change gains, press 'Apply' button\n",
    "Save & Load : save current gain values & load saved values\n",
    "Restart log & Pause log : start & pause log\n",
    "Download full : save logged data as .csv file (only last 30 secs data can be saved)\n",
    "```\n",
    "\n",
    "```\n",
    "Tip : before download saved data, pause log at the first\n",
    "```\n",
    "```Making trajectory (trajectroy_client)```\n",
    "* follow this 'trajectory_client_example'"
   ]
  },
  {
   "cell_type": "markdown",
   "metadata": {},
   "source": [
    "## Launch controller\n",
    "* Execute below command after replacing {PANDA-IP} with the IP of Panda robot\n",
    "```bash\n",
    "roslaunch panda_control joint_control_rnb.launch robot_ip:={PANDA-IP} load_gripper:=false\n",
    "```\n",
    "\n",
    "* Tip\n",
    "```\n",
    "If an interruption (ex. error) occured on controller, push & pull enabling button and restart controller\n",
    "```"
   ]
  },
  {
   "cell_type": "code",
   "execution_count": 1,
   "metadata": {},
   "outputs": [],
   "source": [
    "from utils.trajectory_client.trajectory_client import *"
   ]
  },
  {
   "cell_type": "markdown",
   "metadata": {},
   "source": [
    "## Initialize default client (no gripper function)"
   ]
  },
  {
   "cell_type": "code",
   "execution_count": null,
   "metadata": {},
   "outputs": [],
   "source": [
    "traj_client = TrajectoryClient(\"localhost\")"
   ]
  },
  {
   "cell_type": "code",
   "execution_count": null,
   "metadata": {},
   "outputs": [],
   "source": []
  },
  {
   "cell_type": "markdown",
   "metadata": {},
   "source": [
    "### If you are using panda, run below cell to use panda gripper"
   ]
  },
  {
   "cell_type": "code",
   "execution_count": null,
   "metadata": {},
   "outputs": [],
   "source": [
    "from panda_trajectory_client import PandaTrajectoryClient\n",
    "traj_client = PandaTrajectoryClient(server_ip=\"192.168.1.4\", robot_ip=\"192.168.1.13\")"
   ]
  },
  {
   "cell_type": "markdown",
   "metadata": {},
   "source": [
    "### If you are using Indy7, run below cell"
   ]
  },
  {
   "cell_type": "code",
   "execution_count": null,
   "metadata": {},
   "outputs": [],
   "source": [
    "from indy_trajectory_client import IndyTrajectoryClient\n",
    "traj_client = IndyTrajectoryClient(server_ip=\"192.168.21.6\")"
   ]
  },
  {
   "cell_type": "code",
   "execution_count": null,
   "metadata": {},
   "outputs": [],
   "source": []
  },
  {
   "cell_type": "markdown",
   "metadata": {},
   "source": [
    "## Testing short motion"
   ]
  },
  {
   "cell_type": "code",
   "execution_count": null,
   "metadata": {},
   "outputs": [],
   "source": [
    "Q1 = traj_client.get_qcur()\n",
    "Q2 = np.add(Q1, np.pi/32)"
   ]
  },
  {
   "cell_type": "code",
   "execution_count": null,
   "metadata": {},
   "outputs": [],
   "source": [
    "traj_client.move_joint_s_curve(Q1, N_div=100)"
   ]
  },
  {
   "cell_type": "code",
   "execution_count": null,
   "metadata": {},
   "outputs": [],
   "source": [
    "traj_client.move_joint_s_curve(Q2, N_div=100)"
   ]
  },
  {
   "cell_type": "code",
   "execution_count": null,
   "metadata": {},
   "outputs": [],
   "source": []
  },
  {
   "cell_type": "markdown",
   "metadata": {},
   "source": [
    "## direct teaching"
   ]
  },
  {
   "cell_type": "code",
   "execution_count": null,
   "metadata": {},
   "outputs": [],
   "source": [
    "qlist=[]"
   ]
  },
  {
   "cell_type": "markdown",
   "metadata": {},
   "source": [
    "#### Set the controller to gravity compensator and run below cell multiple times to save waypoints\n",
    "* You don't have to press enabling button for direct teaching"
   ]
  },
  {
   "cell_type": "code",
   "execution_count": null,
   "metadata": {},
   "outputs": [],
   "source": [
    "qlist.append(traj_client.get_qcur())\n",
    "print(\"q: {}\".format(qlist[-1]))\n"
   ]
  },
  {
   "cell_type": "markdown",
   "metadata": {},
   "source": [
    "#### list all saved waypoints"
   ]
  },
  {
   "cell_type": "code",
   "execution_count": null,
   "metadata": {},
   "outputs": [],
   "source": [
    "for i_q, q in enumerate(qlist):\n",
    "    print(\"q{}: {}\".format(i_q, q))"
   ]
  },
  {
   "cell_type": "markdown",
   "metadata": {},
   "source": [
    "#### update target position and reset controller for safety"
   ]
  },
  {
   "cell_type": "code",
   "execution_count": null,
   "metadata": {},
   "outputs": [],
   "source": [
    "traj_client.move_joint_s_curve(traj_client.get_qcur(), N_div=50)\n",
    "traj_client.reset()"
   ]
  },
  {
   "cell_type": "markdown",
   "metadata": {},
   "source": [
    "#### Set controller to NRIC_PD or other active one  - if the robot moves abruptly, restart the controller program"
   ]
  },
  {
   "cell_type": "markdown",
   "metadata": {},
   "source": [
    "#### Run below cell to repeat the waypoint motion (move_joint_s_curve version)"
   ]
  },
  {
   "cell_type": "code",
   "execution_count": null,
   "metadata": {},
   "outputs": [],
   "source": [
    "for _ in range(3):\n",
    "    for q in qlist:\n",
    "        traj_client.move_joint_s_curve(q, N_div=50) # adjust speed by N_div"
   ]
  },
  {
   "cell_type": "markdown",
   "metadata": {},
   "source": [
    "#### Run below cell to repeat the waypoint motion (move_joint_wp version)"
   ]
  },
  {
   "cell_type": "code",
   "execution_count": null,
   "metadata": {},
   "outputs": [],
   "source": [
    "for _ in range(3):\n",
    "    traj_client.move_joint_wp(qlist, vel_lims=0.5, acc_lims=0.5, auto_stop=True) # adjust speed by vel_lims and acc_lims"
   ]
  },
  {
   "cell_type": "code",
   "execution_count": null,
   "metadata": {},
   "outputs": [],
   "source": []
  },
  {
   "cell_type": "markdown",
   "metadata": {},
   "source": [
    "### using gripper"
   ]
  },
  {
   "cell_type": "code",
   "execution_count": null,
   "metadata": {},
   "outputs": [],
   "source": [
    "traj_client.grasp(True)"
   ]
  },
  {
   "cell_type": "code",
   "execution_count": null,
   "metadata": {
    "scrolled": true
   },
   "outputs": [],
   "source": [
    "traj_client.grasp(False)"
   ]
  },
  {
   "cell_type": "code",
   "execution_count": null,
   "metadata": {},
   "outputs": [],
   "source": []
  },
  {
   "cell_type": "markdown",
   "metadata": {},
   "source": [
    "## Task trajectory generation with indy"
   ]
  },
  {
   "cell_type": "markdown",
   "metadata": {},
   "source": [
    "#### Prepare urdf content"
   ]
  },
  {
   "cell_type": "code",
   "execution_count": null,
   "metadata": {
    "scrolled": true
   },
   "outputs": [],
   "source": [
    "from urdf_parser_py.urdf import URDF\n",
    "from joint_utils import *\n",
    "\n",
    "urdf_content = URDF.from_xml_file(\"urdf/indy7.urdf\")\n",
    "link_names = get_link_names(urdf_content)\n",
    "joint_names = get_joint_names(urdf_content)\n",
    "base_link, tip_link = link_names[0], link_names[-1]"
   ]
  },
  {
   "cell_type": "markdown",
   "metadata": {},
   "source": [
    "#### calculating transformation matrix"
   ]
  },
  {
   "cell_type": "code",
   "execution_count": null,
   "metadata": {},
   "outputs": [],
   "source": [
    "Tbe = get_tf(tip_link, list2dict([0]*6, joint_names), urdf_content, from_link=base_link)\n",
    "print(np.round(Tbe, 3))"
   ]
  },
  {
   "cell_type": "markdown",
   "metadata": {},
   "source": [
    "#### calculating line sweep trajectory"
   ]
  },
  {
   "cell_type": "code",
   "execution_count": null,
   "metadata": {},
   "outputs": [],
   "source": [
    "Q0 = traj_client.get_qcur()\n",
    "dP = [0.1,0,0]\n",
    "traj, succ = get_sweep_traj(urdf_content, joint_names, tip_link, dP, Q0)"
   ]
  },
  {
   "cell_type": "markdown",
   "metadata": {},
   "source": [
    "#### following generated trajectory "
   ]
  },
  {
   "cell_type": "code",
   "execution_count": null,
   "metadata": {},
   "outputs": [],
   "source": [
    "traj_tot, traj_time = traj_client.move_joint_wp(traj, vel_lims=0.2, acc_lims=0.2, auto_stop=True)"
   ]
  },
  {
   "cell_type": "code",
   "execution_count": null,
   "metadata": {},
   "outputs": [],
   "source": []
  }
 ],
 "metadata": {
  "kernelspec": {
   "display_name": "Python 3 (ipykernel)",
   "language": "python",
   "name": "python3"
  },
  "language_info": {
   "codemirror_mode": {
    "name": "ipython",
    "version": 3
   },
   "file_extension": ".py",
   "mimetype": "text/x-python",
   "name": "python",
   "nbconvert_exporter": "python",
   "pygments_lexer": "ipython3",
   "version": "3.9.7"
  }
 },
 "nbformat": 4,
 "nbformat_minor": 2
}
